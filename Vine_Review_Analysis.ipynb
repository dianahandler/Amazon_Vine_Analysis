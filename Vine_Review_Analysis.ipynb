{
  "nbformat": 4,
  "nbformat_minor": 0,
  "metadata": {
    "colab": {
      "name": "Vine_Review_Analysis.ipynb",
      "provenance": [],
      "collapsed_sections": []
    },
    "kernelspec": {
      "name": "python3",
      "display_name": "Python 3"
    },
    "language_info": {
      "name": "python"
    }
  },
  "cells": [
    {
      "cell_type": "code",
      "metadata": {
        "colab": {
          "base_uri": "https://localhost:8080/"
        },
        "id": "JW4kAuBc8zSJ",
        "outputId": "63c014a1-f217-47e0-ba27-4ac036adacfd"
      },
      "source": [
        "import os\n",
        "# Find the latest version of spark 3.0 from http://www.apache.org/dist/spark/ and enter as the spark version\n",
        "# For example:\n",
        "# spark_version = 'spark-3.0.3'\n",
        "spark_version = 'spark-3.0.3'\n",
        "os.environ['SPARK_VERSION']=spark_version\n",
        "\n",
        "# Install Spark and Java\n",
        "!apt-get update\n",
        "!apt-get install openjdk-11-jdk-headless -qq > /dev/null\n",
        "!wget -q http://www.apache.org/dist/spark/$SPARK_VERSION/$SPARK_VERSION-bin-hadoop2.7.tgz\n",
        "!tar xf $SPARK_VERSION-bin-hadoop2.7.tgz\n",
        "!pip install -q findspark\n",
        "\n",
        "# Set Environment Variables\n",
        "import os\n",
        "os.environ[\"JAVA_HOME\"] = \"/usr/lib/jvm/java-11-openjdk-amd64\"\n",
        "os.environ[\"SPARK_HOME\"] = f\"/content/{spark_version}-bin-hadoop2.7\"\n",
        "\n",
        "# Start a SparkSession\n",
        "import findspark\n",
        "findspark.init()"
      ],
      "execution_count": 1,
      "outputs": [
        {
          "output_type": "stream",
          "text": [
            "\r0% [Working]\r            \rGet:1 http://security.ubuntu.com/ubuntu bionic-security InRelease [88.7 kB]\n",
            "\r0% [Connecting to archive.ubuntu.com (91.189.88.152)] [1 InRelease 0 B/88.7 kB \r0% [Connecting to archive.ubuntu.com (91.189.88.152)] [Connected to cloud.r-pro\r                                                                               \rGet:2 https://cloud.r-project.org/bin/linux/ubuntu bionic-cran40/ InRelease [3,626 B]\n",
            "\r0% [Connecting to archive.ubuntu.com (91.189.88.152)] [Waiting for headers] [Wa\r0% [1 InRelease gpgv 88.7 kB] [Connecting to archive.ubuntu.com (91.189.88.152)\r                                                                               \rIgn:3 https://developer.download.nvidia.com/compute/cuda/repos/ubuntu1804/x86_64  InRelease\n",
            "Get:4 http://ppa.launchpad.net/c2d4u.team/c2d4u4.0+/ubuntu bionic InRelease [15.9 kB]\n",
            "Hit:5 http://archive.ubuntu.com/ubuntu bionic InRelease\n",
            "Ign:6 https://developer.download.nvidia.com/compute/machine-learning/repos/ubuntu1804/x86_64  InRelease\n",
            "Get:7 https://developer.download.nvidia.com/compute/cuda/repos/ubuntu1804/x86_64  Release [697 B]\n",
            "Hit:8 https://developer.download.nvidia.com/compute/machine-learning/repos/ubuntu1804/x86_64  Release\n",
            "Get:9 http://archive.ubuntu.com/ubuntu bionic-updates InRelease [88.7 kB]\n",
            "Get:10 https://developer.download.nvidia.com/compute/cuda/repos/ubuntu1804/x86_64  Release.gpg [836 B]\n",
            "Hit:11 http://ppa.launchpad.net/cran/libgit2/ubuntu bionic InRelease\n",
            "Get:12 http://security.ubuntu.com/ubuntu bionic-security/multiverse amd64 Packages [26.7 kB]\n",
            "Get:13 http://security.ubuntu.com/ubuntu bionic-security/restricted amd64 Packages [510 kB]\n",
            "Get:14 http://security.ubuntu.com/ubuntu bionic-security/universe amd64 Packages [1,420 kB]\n",
            "Get:15 http://archive.ubuntu.com/ubuntu bionic-backports InRelease [74.6 kB]\n",
            "Get:16 http://ppa.launchpad.net/deadsnakes/ppa/ubuntu bionic InRelease [15.9 kB]\n",
            "Get:17 http://security.ubuntu.com/ubuntu bionic-security/main amd64 Packages [2,263 kB]\n",
            "Get:18 http://ppa.launchpad.net/graphics-drivers/ppa/ubuntu bionic InRelease [21.3 kB]\n",
            "Get:19 https://cloud.r-project.org/bin/linux/ubuntu bionic-cran40/ Packages [62.9 kB]\n",
            "Get:20 http://ppa.launchpad.net/c2d4u.team/c2d4u4.0+/ubuntu bionic/main Sources [1,786 kB]\n",
            "Get:22 http://ppa.launchpad.net/c2d4u.team/c2d4u4.0+/ubuntu bionic/main amd64 Packages [914 kB]\n",
            "Ign:23 https://developer.download.nvidia.com/compute/cuda/repos/ubuntu1804/x86_64  Packages\n",
            "Get:23 https://developer.download.nvidia.com/compute/cuda/repos/ubuntu1804/x86_64  Packages [695 kB]\n",
            "Get:24 http://archive.ubuntu.com/ubuntu bionic-updates/universe amd64 Packages [2,195 kB]\n",
            "Get:25 http://archive.ubuntu.com/ubuntu bionic-updates/multiverse amd64 Packages [39.4 kB]\n",
            "Get:26 http://archive.ubuntu.com/ubuntu bionic-updates/main amd64 Packages [2,698 kB]\n",
            "Get:27 http://archive.ubuntu.com/ubuntu bionic-updates/restricted amd64 Packages [544 kB]\n",
            "Get:28 http://ppa.launchpad.net/deadsnakes/ppa/ubuntu bionic/main amd64 Packages [40.9 kB]\n",
            "Get:29 http://ppa.launchpad.net/graphics-drivers/ppa/ubuntu bionic/main amd64 Packages [44.1 kB]\n",
            "Fetched 13.5 MB in 5s (2,593 kB/s)\n",
            "Reading package lists... Done\n"
          ],
          "name": "stdout"
        }
      ]
    },
    {
      "cell_type": "code",
      "metadata": {
        "colab": {
          "base_uri": "https://localhost:8080/"
        },
        "id": "uDP7bqFC95Vn",
        "outputId": "b7b496f6-6231-4cfc-f016-8e8c18854032"
      },
      "source": [
        "# Download the Postgres driver that will allow Spark to interact with Postgres.\n",
        "!wget https://jdbc.postgresql.org/download/postgresql-42.2.16.jar"
      ],
      "execution_count": 2,
      "outputs": [
        {
          "output_type": "stream",
          "text": [
            "--2021-08-08 22:53:21--  https://jdbc.postgresql.org/download/postgresql-42.2.16.jar\n",
            "Resolving jdbc.postgresql.org (jdbc.postgresql.org)... 72.32.157.228, 2001:4800:3e1:1::228\n",
            "Connecting to jdbc.postgresql.org (jdbc.postgresql.org)|72.32.157.228|:443... connected.\n",
            "HTTP request sent, awaiting response... 200 OK\n",
            "Length: 1002883 (979K) [application/java-archive]\n",
            "Saving to: ‘postgresql-42.2.16.jar’\n",
            "\n",
            "postgresql-42.2.16. 100%[===================>] 979.38K  5.65MB/s    in 0.2s    \n",
            "\n",
            "2021-08-08 22:53:21 (5.65 MB/s) - ‘postgresql-42.2.16.jar’ saved [1002883/1002883]\n",
            "\n"
          ],
          "name": "stdout"
        }
      ]
    },
    {
      "cell_type": "code",
      "metadata": {
        "id": "las0yp-8-Hqf"
      },
      "source": [
        "from pyspark.sql import SparkSession\n",
        "spark = SparkSession.builder.appName(\"M16-Amazon-Challenge\").config(\"spark.driver.extraClassPath\",\"/content/postgresql-42.2.16.jar\").getOrCreate()"
      ],
      "execution_count": 3,
      "outputs": []
    },
    {
      "cell_type": "code",
      "metadata": {
        "id": "QwS8MoBR-K8K"
      },
      "source": [
        "## Extract Dataset from Deliverable 1"
      ],
      "execution_count": null,
      "outputs": []
    },
    {
      "cell_type": "code",
      "metadata": {
        "colab": {
          "base_uri": "https://localhost:8080/"
        },
        "id": "AIGqyB5O-Y1G",
        "outputId": "66dd1756-183f-4c3f-cabb-27c6d6cd7503"
      },
      "source": [
        "from pyspark import SparkFiles\n",
        "url = \"https://s3.amazonaws.com/amazon-reviews-pds/tsv/amazon_reviews_us_Grocery_v1_00.tsv.gz\"\n",
        "spark.sparkContext.addFile(url)\n",
        "df = spark.read.option(\"encoding\", \"UTF-8\").csv(SparkFiles.get(\"amazon_reviews_us_Grocery_v1_00.tsv.gz\"), sep=\"\\t\", header=True, inferSchema=True)\n",
        "df.show()"
      ],
      "execution_count": 4,
      "outputs": [
        {
          "output_type": "stream",
          "text": [
            "+-----------+-----------+--------------+----------+--------------+--------------------+----------------+-----------+-------------+-----------+----+-----------------+--------------------+--------------------+-----------+\n",
            "|marketplace|customer_id|     review_id|product_id|product_parent|       product_title|product_category|star_rating|helpful_votes|total_votes|vine|verified_purchase|     review_headline|         review_body|review_date|\n",
            "+-----------+-----------+--------------+----------+--------------+--------------------+----------------+-----------+-------------+-----------+----+-----------------+--------------------+--------------------+-----------+\n",
            "|         US|   42521656|R26MV8D0KG6QI6|B000SAQCWC|     159713740|The Cravings Plac...|         Grocery|          5|            0|          0|   N|                Y|Using these for y...|As a family aller...| 2015-08-31|\n",
            "|         US|   12049833|R1OF8GP57AQ1A0|B00509LVIQ|     138680402|Mauna Loa Macadam...|         Grocery|          5|            0|          0|   N|                Y|           Wonderful|My favorite nut. ...| 2015-08-31|\n",
            "|         US|     107642|R3VDC1QB6MC4ZZ|B00KHXESLC|     252021703|Organic Matcha Gr...|         Grocery|          5|            0|          0|   N|                N|          Five Stars|This green tea ta...| 2015-08-31|\n",
            "|         US|    6042304|R12FA3DCF8F9ER|B000F8JIIC|     752728342|15oz Raspberry Ly...|         Grocery|          5|            0|          0|   N|                Y|          Five Stars|I love Melissa's ...| 2015-08-31|\n",
            "|         US|   18123821| RTWHVNV6X4CNJ|B004ZWR9RQ|     552138758|Stride Spark Kine...|         Grocery|          5|            0|          0|   N|                Y|          Five Stars|                good| 2015-08-31|\n",
            "|         US|   23649464| RIG9AWFOGRDVO|B00AL6QBZ6|     681475449|Herr's Popcorn Ho...|         Grocery|          2|            1|          1|   N|                Y|           Not Happy|The popcorn was s...| 2015-08-31|\n",
            "|         US|   32778285|R1S1XSG4ZCHDGS|B00BCNSTRA|     578681693|Larabar uber, 1.4...|         Grocery|          5|            1|          1|   N|                Y|          Five Stars|Love these bars, ...| 2015-08-31|\n",
            "|         US|   46612941| RB15NBVY5ELVW|B0089MM2BG|     350968436|Shirakiku Soba No...|         Grocery|          5|            2|          2|   N|                Y|          Five Stars|Love the taste bu...| 2015-08-31|\n",
            "|         US|   31525399| R56358YM1ZJ7I|B00Y1C9770|     729982780|Jif Chocolate Nut...|         Grocery|          5|            0|          0|   N|                N|      Great tasting!|I'm a member of t...| 2015-08-31|\n",
            "|         US|   19624355|R1ODXB3C9UP3NL|B00J074W94|       2499702|Orgain Organic Pl...|         Grocery|          1|            1|          3|   N|                N|Disgusting now an...|Used to be a dece...| 2015-08-31|\n",
            "|         US|   31910375|R155ZMVLD5C9BP|B0001VKKOO|     189938205|Bragg - All Natur...|         Grocery|          4|            3|          4|   N|                Y|If you like soy s...|I cannot tell the...| 2015-08-31|\n",
            "|         US|   12816533|R2IXW43PUNYM0G|B007TGH4CK|     398128262|Wholesome Sweeten...|         Grocery|          4|            1|          1|   N|                Y|          Four Stars|Good flavor and s...| 2015-08-31|\n",
            "|         US|   23208852|R3LYEG1QCK2BG0|B002HMN6SC|      18057786|Kadoya Pure Sesam...|         Grocery|          5|            0|          0|   N|                Y|          Five Stars|Great to use in r...| 2015-08-31|\n",
            "|         US|   17348415|R20LREICPM3YH0|B004NRHAZO|     595020880|Nishiki Premium B...|         Grocery|          5|            0|          0|   N|                Y|          Five Stars|It's rice. Have e...| 2015-08-31|\n",
            "|         US|   46763945| RHA5COCZDVB13|B00V7LJIG8|     173088090|Everly Passion Fr...|         Grocery|          5|            0|          0|   N|                Y|          Five Stars|Very good tasting...| 2015-08-31|\n",
            "|         US|     961747| RT9BGRQANMANE|B0000E2YFI|     120269621|Charms Blue Razzb...|         Grocery|          5|            0|          0|   N|                Y|           Excellent|They were perfect...| 2015-08-31|\n",
            "|         US|   16888081| ROD1TU5JCS7JQ|B00VK5SQOQ|     204992966|Food Should Taste...|         Grocery|          5|            0|          0|   N|                N|              YUMMY!|Wow, these are so...| 2015-08-31|\n",
            "|         US|   22765168|R3T6TTD2IN0EFZ|B00XDXMLL2|     971154239|Skippy Creamy Pea...|         Grocery|          1|            4|          4|   N|                N|1 Out Of 5 Of My ...|I bought this fro...| 2015-08-31|\n",
            "|         US|   36328996|R1OCUGZ444NKV3|B00MN4KX3A|     787182505|Celestial Seasoni...|         Grocery|          5|            5|          5|   N|                Y|delicious tea and...|I love this tea, ...| 2015-08-31|\n",
            "|         US|   27092724| RCQQGWTC4J4TZ|B004NTCE1M|     653570135|Nutiva Organic Vi...|         Grocery|          4|            0|          0|   N|                Y|    Best coconut oil|I have used servo...| 2015-08-31|\n",
            "+-----------+-----------+--------------+----------+--------------+--------------------+----------------+-----------+-------------+-----------+----+-----------------+--------------------+--------------------+-----------+\n",
            "only showing top 20 rows\n",
            "\n"
          ],
          "name": "stdout"
        }
      ]
    },
    {
      "cell_type": "code",
      "metadata": {
        "colab": {
          "base_uri": "https://localhost:8080/"
        },
        "id": "PGSmeWJx-sLj",
        "outputId": "bd8ded46-d1c1-4853-839b-d6d31486d3ea"
      },
      "source": [
        "# Create Dataframes to match tables\n",
        "from pyspark.sql.functions import to_date\n",
        "df.show()\n",
        "# Read in the Review dataset as a DataFrame\n"
      ],
      "execution_count": 5,
      "outputs": [
        {
          "output_type": "stream",
          "text": [
            "+-----------+-----------+--------------+----------+--------------+--------------------+----------------+-----------+-------------+-----------+----+-----------------+--------------------+--------------------+-----------+\n",
            "|marketplace|customer_id|     review_id|product_id|product_parent|       product_title|product_category|star_rating|helpful_votes|total_votes|vine|verified_purchase|     review_headline|         review_body|review_date|\n",
            "+-----------+-----------+--------------+----------+--------------+--------------------+----------------+-----------+-------------+-----------+----+-----------------+--------------------+--------------------+-----------+\n",
            "|         US|   42521656|R26MV8D0KG6QI6|B000SAQCWC|     159713740|The Cravings Plac...|         Grocery|          5|            0|          0|   N|                Y|Using these for y...|As a family aller...| 2015-08-31|\n",
            "|         US|   12049833|R1OF8GP57AQ1A0|B00509LVIQ|     138680402|Mauna Loa Macadam...|         Grocery|          5|            0|          0|   N|                Y|           Wonderful|My favorite nut. ...| 2015-08-31|\n",
            "|         US|     107642|R3VDC1QB6MC4ZZ|B00KHXESLC|     252021703|Organic Matcha Gr...|         Grocery|          5|            0|          0|   N|                N|          Five Stars|This green tea ta...| 2015-08-31|\n",
            "|         US|    6042304|R12FA3DCF8F9ER|B000F8JIIC|     752728342|15oz Raspberry Ly...|         Grocery|          5|            0|          0|   N|                Y|          Five Stars|I love Melissa's ...| 2015-08-31|\n",
            "|         US|   18123821| RTWHVNV6X4CNJ|B004ZWR9RQ|     552138758|Stride Spark Kine...|         Grocery|          5|            0|          0|   N|                Y|          Five Stars|                good| 2015-08-31|\n",
            "|         US|   23649464| RIG9AWFOGRDVO|B00AL6QBZ6|     681475449|Herr's Popcorn Ho...|         Grocery|          2|            1|          1|   N|                Y|           Not Happy|The popcorn was s...| 2015-08-31|\n",
            "|         US|   32778285|R1S1XSG4ZCHDGS|B00BCNSTRA|     578681693|Larabar uber, 1.4...|         Grocery|          5|            1|          1|   N|                Y|          Five Stars|Love these bars, ...| 2015-08-31|\n",
            "|         US|   46612941| RB15NBVY5ELVW|B0089MM2BG|     350968436|Shirakiku Soba No...|         Grocery|          5|            2|          2|   N|                Y|          Five Stars|Love the taste bu...| 2015-08-31|\n",
            "|         US|   31525399| R56358YM1ZJ7I|B00Y1C9770|     729982780|Jif Chocolate Nut...|         Grocery|          5|            0|          0|   N|                N|      Great tasting!|I'm a member of t...| 2015-08-31|\n",
            "|         US|   19624355|R1ODXB3C9UP3NL|B00J074W94|       2499702|Orgain Organic Pl...|         Grocery|          1|            1|          3|   N|                N|Disgusting now an...|Used to be a dece...| 2015-08-31|\n",
            "|         US|   31910375|R155ZMVLD5C9BP|B0001VKKOO|     189938205|Bragg - All Natur...|         Grocery|          4|            3|          4|   N|                Y|If you like soy s...|I cannot tell the...| 2015-08-31|\n",
            "|         US|   12816533|R2IXW43PUNYM0G|B007TGH4CK|     398128262|Wholesome Sweeten...|         Grocery|          4|            1|          1|   N|                Y|          Four Stars|Good flavor and s...| 2015-08-31|\n",
            "|         US|   23208852|R3LYEG1QCK2BG0|B002HMN6SC|      18057786|Kadoya Pure Sesam...|         Grocery|          5|            0|          0|   N|                Y|          Five Stars|Great to use in r...| 2015-08-31|\n",
            "|         US|   17348415|R20LREICPM3YH0|B004NRHAZO|     595020880|Nishiki Premium B...|         Grocery|          5|            0|          0|   N|                Y|          Five Stars|It's rice. Have e...| 2015-08-31|\n",
            "|         US|   46763945| RHA5COCZDVB13|B00V7LJIG8|     173088090|Everly Passion Fr...|         Grocery|          5|            0|          0|   N|                Y|          Five Stars|Very good tasting...| 2015-08-31|\n",
            "|         US|     961747| RT9BGRQANMANE|B0000E2YFI|     120269621|Charms Blue Razzb...|         Grocery|          5|            0|          0|   N|                Y|           Excellent|They were perfect...| 2015-08-31|\n",
            "|         US|   16888081| ROD1TU5JCS7JQ|B00VK5SQOQ|     204992966|Food Should Taste...|         Grocery|          5|            0|          0|   N|                N|              YUMMY!|Wow, these are so...| 2015-08-31|\n",
            "|         US|   22765168|R3T6TTD2IN0EFZ|B00XDXMLL2|     971154239|Skippy Creamy Pea...|         Grocery|          1|            4|          4|   N|                N|1 Out Of 5 Of My ...|I bought this fro...| 2015-08-31|\n",
            "|         US|   36328996|R1OCUGZ444NKV3|B00MN4KX3A|     787182505|Celestial Seasoni...|         Grocery|          5|            5|          5|   N|                Y|delicious tea and...|I love this tea, ...| 2015-08-31|\n",
            "|         US|   27092724| RCQQGWTC4J4TZ|B004NTCE1M|     653570135|Nutiva Organic Vi...|         Grocery|          4|            0|          0|   N|                Y|    Best coconut oil|I have used servo...| 2015-08-31|\n",
            "+-----------+-----------+--------------+----------+--------------+--------------------+----------------+-----------+-------------+-----------+----+-----------------+--------------------+--------------------+-----------+\n",
            "only showing top 20 rows\n",
            "\n"
          ],
          "name": "stdout"
        }
      ]
    },
    {
      "cell_type": "code",
      "metadata": {
        "colab": {
          "base_uri": "https://localhost:8080/"
        },
        "id": "yMR2LD5l-sQt",
        "outputId": "4c750403-3754-445f-a3fb-4b3fcfa35c9b"
      },
      "source": [
        "# Create the customers_table DataFrame\n",
        "customers_df = df.groupby(\"customer_id\").agg({\"customer_id\":\"count\"}).withColumnRenamed(\"count(customer_id)\", \"customer_count\")\n",
        "customers_df.show()"
      ],
      "execution_count": 6,
      "outputs": [
        {
          "output_type": "stream",
          "text": [
            "+-----------+--------------+\n",
            "|customer_id|customer_count|\n",
            "+-----------+--------------+\n",
            "|   21294263|             1|\n",
            "|    8619125|             1|\n",
            "|   43626894|             1|\n",
            "|   38209321|             4|\n",
            "|   40568205|             1|\n",
            "|   13480593|             1|\n",
            "|   19505799|             1|\n",
            "|   43150161|             2|\n",
            "|   28802315|             2|\n",
            "|   35329257|             1|\n",
            "|   49101505|             1|\n",
            "|    1117644|             1|\n",
            "|   28377689|             1|\n",
            "|   23493243|             1|\n",
            "|   48670265|             1|\n",
            "|   49041516|             3|\n",
            "|   37499049|             2|\n",
            "|   10920752|             1|\n",
            "|    5627998|             1|\n",
            "|     135423|             1|\n",
            "+-----------+--------------+\n",
            "only showing top 20 rows\n",
            "\n"
          ],
          "name": "stdout"
        }
      ]
    },
    {
      "cell_type": "code",
      "metadata": {
        "colab": {
          "base_uri": "https://localhost:8080/"
        },
        "id": "qsiYTWRp-sWT",
        "outputId": "a79619e2-965e-4355-b61d-edc4a2d83094"
      },
      "source": [
        "# Create the products_table DataFrame and drop duplicates. \n",
        "products_df = df.select([\"product_id\",\"product_title\"]).drop_duplicates()\n",
        "products_df.show()"
      ],
      "execution_count": 7,
      "outputs": [
        {
          "output_type": "stream",
          "text": [
            "+----------+--------------------+\n",
            "|product_id|       product_title|\n",
            "+----------+--------------------+\n",
            "|B0088PCJ1C|Bob's Pickle Pops...|\n",
            "|B005P0U5BO|Envirokidz Organi...|\n",
            "|B00K2RY8GI|Coffee Variety Sa...|\n",
            "|B008233EI2|Once Again Organi...|\n",
            "|B0029K0U90|Mrs. Wages ALL NA...|\n",
            "|B003H4AMEU|Bhuja Crunchy Sea...|\n",
            "|B004AJIG76|Krusteaz Belgian ...|\n",
            "|B002LME6OQ|Prince of Peace O...|\n",
            "|B00NP7U2U8|Yoki - Cheese Bre...|\n",
            "|B00ISQD2YO|Nescafe with Coff...|\n",
            "|B003X35RR2|Bob's Red Mill Gl...|\n",
            "|B00WVSNJ8Y|Organic Valley, O...|\n",
            "|B0002UM13C|Sour Cherry Prese...|\n",
            "|B0042M7PS2|Rodelle Gourmet B...|\n",
            "|B002DVPTVO|Coffee Go Candy -...|\n",
            "|B008EL7N2U|Melitta Coffee Gr...|\n",
            "|B00CCS8Y5Q|Trader Joe's Coco...|\n",
            "|B006ZOXLF6|Flossugar (1/2 ga...|\n",
            "|B004RJ0C1W|Camp Chicory & Co...|\n",
            "|B005JJZ430|KONA BLEND COFFEE...|\n",
            "+----------+--------------------+\n",
            "only showing top 20 rows\n",
            "\n"
          ],
          "name": "stdout"
        }
      ]
    },
    {
      "cell_type": "code",
      "metadata": {
        "colab": {
          "base_uri": "https://localhost:8080/"
        },
        "id": "XfjrIt9l-sai",
        "outputId": "7d2f25f6-b726-44fc-b18c-f4c31c7f96fa"
      },
      "source": [
        "# Create the review_id_table DataFrame. \n",
        "# Convert the 'review_date' column to a date datatype with to_date(\"review_date\", 'yyyy-MM-dd').alias(\"review_date\")\n",
        "review_id_df = df.select([\"review_id\", \"customer_id\", \"product_id\",\"product_parent\", to_date(\"review_date\", 'yyyy-MM-dd').alias(\"review_date\")])\n",
        "review_id_df.show()"
      ],
      "execution_count": 9,
      "outputs": [
        {
          "output_type": "stream",
          "text": [
            "+--------------+-----------+----------+--------------+-----------+\n",
            "|     review_id|customer_id|product_id|product_parent|review_date|\n",
            "+--------------+-----------+----------+--------------+-----------+\n",
            "|R26MV8D0KG6QI6|   42521656|B000SAQCWC|     159713740| 2015-08-31|\n",
            "|R1OF8GP57AQ1A0|   12049833|B00509LVIQ|     138680402| 2015-08-31|\n",
            "|R3VDC1QB6MC4ZZ|     107642|B00KHXESLC|     252021703| 2015-08-31|\n",
            "|R12FA3DCF8F9ER|    6042304|B000F8JIIC|     752728342| 2015-08-31|\n",
            "| RTWHVNV6X4CNJ|   18123821|B004ZWR9RQ|     552138758| 2015-08-31|\n",
            "| RIG9AWFOGRDVO|   23649464|B00AL6QBZ6|     681475449| 2015-08-31|\n",
            "|R1S1XSG4ZCHDGS|   32778285|B00BCNSTRA|     578681693| 2015-08-31|\n",
            "| RB15NBVY5ELVW|   46612941|B0089MM2BG|     350968436| 2015-08-31|\n",
            "| R56358YM1ZJ7I|   31525399|B00Y1C9770|     729982780| 2015-08-31|\n",
            "|R1ODXB3C9UP3NL|   19624355|B00J074W94|       2499702| 2015-08-31|\n",
            "|R155ZMVLD5C9BP|   31910375|B0001VKKOO|     189938205| 2015-08-31|\n",
            "|R2IXW43PUNYM0G|   12816533|B007TGH4CK|     398128262| 2015-08-31|\n",
            "|R3LYEG1QCK2BG0|   23208852|B002HMN6SC|      18057786| 2015-08-31|\n",
            "|R20LREICPM3YH0|   17348415|B004NRHAZO|     595020880| 2015-08-31|\n",
            "| RHA5COCZDVB13|   46763945|B00V7LJIG8|     173088090| 2015-08-31|\n",
            "| RT9BGRQANMANE|     961747|B0000E2YFI|     120269621| 2015-08-31|\n",
            "| ROD1TU5JCS7JQ|   16888081|B00VK5SQOQ|     204992966| 2015-08-31|\n",
            "|R3T6TTD2IN0EFZ|   22765168|B00XDXMLL2|     971154239| 2015-08-31|\n",
            "|R1OCUGZ444NKV3|   36328996|B00MN4KX3A|     787182505| 2015-08-31|\n",
            "| RCQQGWTC4J4TZ|   27092724|B004NTCE1M|     653570135| 2015-08-31|\n",
            "+--------------+-----------+----------+--------------+-----------+\n",
            "only showing top 20 rows\n",
            "\n"
          ],
          "name": "stdout"
        }
      ]
    },
    {
      "cell_type": "code",
      "metadata": {
        "colab": {
          "base_uri": "https://localhost:8080/"
        },
        "id": "qTZpHUY6-sfW",
        "outputId": "7bfa65fa-c703-4cd2-a68a-ca4d37d53017"
      },
      "source": [
        "# Create the vine_table. DataFrame\n",
        "vine_df = df.select([\"review_id\", \"star_rating\", \"helpful_votes\", \"total_votes\", \"vine\", \"verified_purchase\"])\n",
        "vine_df.show()"
      ],
      "execution_count": 10,
      "outputs": [
        {
          "output_type": "stream",
          "text": [
            "+--------------+-----------+-------------+-----------+----+-----------------+\n",
            "|     review_id|star_rating|helpful_votes|total_votes|vine|verified_purchase|\n",
            "+--------------+-----------+-------------+-----------+----+-----------------+\n",
            "|R26MV8D0KG6QI6|          5|            0|          0|   N|                Y|\n",
            "|R1OF8GP57AQ1A0|          5|            0|          0|   N|                Y|\n",
            "|R3VDC1QB6MC4ZZ|          5|            0|          0|   N|                N|\n",
            "|R12FA3DCF8F9ER|          5|            0|          0|   N|                Y|\n",
            "| RTWHVNV6X4CNJ|          5|            0|          0|   N|                Y|\n",
            "| RIG9AWFOGRDVO|          2|            1|          1|   N|                Y|\n",
            "|R1S1XSG4ZCHDGS|          5|            1|          1|   N|                Y|\n",
            "| RB15NBVY5ELVW|          5|            2|          2|   N|                Y|\n",
            "| R56358YM1ZJ7I|          5|            0|          0|   N|                N|\n",
            "|R1ODXB3C9UP3NL|          1|            1|          3|   N|                N|\n",
            "|R155ZMVLD5C9BP|          4|            3|          4|   N|                Y|\n",
            "|R2IXW43PUNYM0G|          4|            1|          1|   N|                Y|\n",
            "|R3LYEG1QCK2BG0|          5|            0|          0|   N|                Y|\n",
            "|R20LREICPM3YH0|          5|            0|          0|   N|                Y|\n",
            "| RHA5COCZDVB13|          5|            0|          0|   N|                Y|\n",
            "| RT9BGRQANMANE|          5|            0|          0|   N|                Y|\n",
            "| ROD1TU5JCS7JQ|          5|            0|          0|   N|                N|\n",
            "|R3T6TTD2IN0EFZ|          1|            4|          4|   N|                N|\n",
            "|R1OCUGZ444NKV3|          5|            5|          5|   N|                Y|\n",
            "| RCQQGWTC4J4TZ|          4|            0|          0|   N|                Y|\n",
            "+--------------+-----------+-------------+-----------+----+-----------------+\n",
            "only showing top 20 rows\n",
            "\n"
          ],
          "name": "stdout"
        }
      ]
    },
    {
      "cell_type": "code",
      "metadata": {
        "colab": {
          "base_uri": "https://localhost:8080/"
        },
        "id": "tNsXctXN-sjp",
        "outputId": "1694a5e8-b87a-42ba-ecab-c94e2b5470e7"
      },
      "source": [
        "from pyspark.sql.functions import col\n",
        "\n",
        "total_votes_df = vine_df.filter(col(\"total_votes\")  >= 20)\n",
        "total_votes_df.show()"
      ],
      "execution_count": 11,
      "outputs": [
        {
          "output_type": "stream",
          "text": [
            "+--------------+-----------+-------------+-----------+----+-----------------+\n",
            "|     review_id|star_rating|helpful_votes|total_votes|vine|verified_purchase|\n",
            "+--------------+-----------+-------------+-----------+----+-----------------+\n",
            "|R1OAZUG90XPU2U|          5|          250|        274|   N|                Y|\n",
            "|R23VPTUJ8I8NR5|          1|           28|         30|   N|                Y|\n",
            "|R33VIWRD2X5IA9|          1|            0|         20|   N|                Y|\n",
            "| R6SRJFJ5YH4UM|          5|           23|         26|   N|                Y|\n",
            "|R3DOS07BIMP4DJ|          2|           32|         42|   N|                N|\n",
            "|R26UFXLLQ2N0CR|          1|            0|         20|   N|                Y|\n",
            "|R30PGWX4HN1CFG|          1|           85|         95|   N|                Y|\n",
            "|R2XASGYIENUHQO|          5|           28|         32|   N|                Y|\n",
            "|R34UQPQCTSKQK9|          5|           23|         26|   N|                Y|\n",
            "|R2M6WNM2OZZHKS|          1|           20|         22|   N|                N|\n",
            "| RO6JNMUJDE1LP|          5|           37|         50|   N|                N|\n",
            "|R1WNL4OIMSKDBR|          5|           35|         36|   N|                Y|\n",
            "| RDGWZ3U8LQZE6|          2|           48|         54|   N|                Y|\n",
            "|R3HFIKVOUDHT4I|          3|           64|         67|   N|                N|\n",
            "| R22M0N2OZSICN|          5|           21|         23|   N|                Y|\n",
            "|R1E43139TRHB5T|          5|           22|         22|   N|                Y|\n",
            "|R1L40ST6C2UJHK|          5|          262|        272|   N|                Y|\n",
            "|R1XISUX6DDSXKZ|          5|           37|         41|   N|                Y|\n",
            "|R35MWO8UIXOA37|          1|           20|         22|   N|                Y|\n",
            "|R1RZ0G02ASP7SF|          2|           35|         43|   N|                Y|\n",
            "+--------------+-----------+-------------+-----------+----+-----------------+\n",
            "only showing top 20 rows\n",
            "\n"
          ],
          "name": "stdout"
        }
      ]
    },
    {
      "cell_type": "code",
      "metadata": {
        "id": "6TuiVJnFADED"
      },
      "source": [
        "# Add SQL function for col\n",
        "from pyspark.sql.functions import col\n"
      ],
      "execution_count": 12,
      "outputs": []
    },
    {
      "cell_type": "code",
      "metadata": {
        "colab": {
          "base_uri": "https://localhost:8080/"
        },
        "id": "jc_wivwEAH3d",
        "outputId": "6dd613e6-3cdf-45e7-a771-9009cb7d4d47"
      },
      "source": [
        "helpful_votes_calc_df = total_votes_df.withColumn('percentage_helpful', total_votes_df['helpful_votes']/total_votes_df[\"total_votes\"])\n",
        "helpful_votes_df = helpful_votes_calc_df.filter(col(\"percentage_helpful\")  > .5)\n",
        "helpful_votes_df.show()"
      ],
      "execution_count": 13,
      "outputs": [
        {
          "output_type": "stream",
          "text": [
            "+--------------+-----------+-------------+-----------+----+-----------------+------------------+\n",
            "|     review_id|star_rating|helpful_votes|total_votes|vine|verified_purchase|percentage_helpful|\n",
            "+--------------+-----------+-------------+-----------+----+-----------------+------------------+\n",
            "|R1OAZUG90XPU2U|          5|          250|        274|   N|                Y|0.9124087591240876|\n",
            "|R23VPTUJ8I8NR5|          1|           28|         30|   N|                Y|0.9333333333333333|\n",
            "| R6SRJFJ5YH4UM|          5|           23|         26|   N|                Y|0.8846153846153846|\n",
            "|R3DOS07BIMP4DJ|          2|           32|         42|   N|                N|0.7619047619047619|\n",
            "|R30PGWX4HN1CFG|          1|           85|         95|   N|                Y|0.8947368421052632|\n",
            "|R2XASGYIENUHQO|          5|           28|         32|   N|                Y|             0.875|\n",
            "|R34UQPQCTSKQK9|          5|           23|         26|   N|                Y|0.8846153846153846|\n",
            "|R2M6WNM2OZZHKS|          1|           20|         22|   N|                N|0.9090909090909091|\n",
            "| RO6JNMUJDE1LP|          5|           37|         50|   N|                N|              0.74|\n",
            "|R1WNL4OIMSKDBR|          5|           35|         36|   N|                Y|0.9722222222222222|\n",
            "| RDGWZ3U8LQZE6|          2|           48|         54|   N|                Y|0.8888888888888888|\n",
            "|R3HFIKVOUDHT4I|          3|           64|         67|   N|                N|0.9552238805970149|\n",
            "| R22M0N2OZSICN|          5|           21|         23|   N|                Y|0.9130434782608695|\n",
            "|R1E43139TRHB5T|          5|           22|         22|   N|                Y|               1.0|\n",
            "|R1L40ST6C2UJHK|          5|          262|        272|   N|                Y|0.9632352941176471|\n",
            "|R1XISUX6DDSXKZ|          5|           37|         41|   N|                Y|0.9024390243902439|\n",
            "|R35MWO8UIXOA37|          1|           20|         22|   N|                Y|0.9090909090909091|\n",
            "|R1RZ0G02ASP7SF|          2|           35|         43|   N|                Y| 0.813953488372093|\n",
            "|R10HZ77HAWVJH6|          5|           19|         22|   N|                Y|0.8636363636363636|\n",
            "|R1PI04EDGLLCXV|          5|           25|         28|   N|                Y|0.8928571428571429|\n",
            "+--------------+-----------+-------------+-----------+----+-----------------+------------------+\n",
            "only showing top 20 rows\n",
            "\n"
          ],
          "name": "stdout"
        }
      ]
    },
    {
      "cell_type": "code",
      "metadata": {
        "colab": {
          "base_uri": "https://localhost:8080/"
        },
        "id": "lzESwC1vAJ0y",
        "outputId": "fb6b82c9-10c2-4bcc-bf31-a83059520b39"
      },
      "source": [
        "# Step 3\n",
        "from pyspark.sql.functions import col\n",
        "vine_paid_df = helpful_votes_df.filter(col(\"vine\")  == 'Y')\n",
        "vine_paid_df.show()"
      ],
      "execution_count": 14,
      "outputs": [
        {
          "output_type": "stream",
          "text": [
            "+--------------+-----------+-------------+-----------+----+-----------------+------------------+\n",
            "|     review_id|star_rating|helpful_votes|total_votes|vine|verified_purchase|percentage_helpful|\n",
            "+--------------+-----------+-------------+-----------+----+-----------------+------------------+\n",
            "|R3MKO875WGIEBJ|          5|           34|         37|   Y|                N| 0.918918918918919|\n",
            "|R3OPNTK61FQ7MP|          5|           32|         37|   Y|                N|0.8648648648648649|\n",
            "| RMDRU8I773X5U|          4|           22|         25|   Y|                N|              0.88|\n",
            "| RR83RGWFEFZCL|          3|           61|         64|   Y|                N|          0.953125|\n",
            "|R2TMZ7GV8SPIRV|          4|           23|         23|   Y|                N|               1.0|\n",
            "| RX88JLUIFA4Q2|          4|           84|         87|   Y|                Y|0.9655172413793104|\n",
            "| RV3AHTDRHDH7R|          5|          253|        258|   Y|                N|0.9806201550387597|\n",
            "|R13EGJI8C8YJ4Y|          5|           19|         20|   Y|                N|              0.95|\n",
            "| R9SNSQTK4TJOG|          2|           11|         20|   Y|                N|              0.55|\n",
            "|R1A76AK493C8P8|          5|           83|         90|   Y|                N|0.9222222222222223|\n",
            "|R3LOTAAVOZ9D1L|          3|           19|         26|   Y|                N|0.7307692307692307|\n",
            "|R1BRN47DX8UXA7|          5|          154|        159|   Y|                N|0.9685534591194969|\n",
            "|R13CEXESMDKT3D|          3|           33|         36|   Y|                N|0.9166666666666666|\n",
            "|R1OM89J7BP8MUZ|          1|           23|         29|   Y|                N|0.7931034482758621|\n",
            "| RZP9LBF95AEHO|          3|           56|         58|   Y|                N|0.9655172413793104|\n",
            "|R3V9P61EYXDNRV|          5|           51|         54|   Y|                N|0.9444444444444444|\n",
            "|R2BDT05RK7TOJ9|          5|           21|         22|   Y|                N|0.9545454545454546|\n",
            "|R2PFVGR88KV91R|          2|           16|         23|   Y|                N|0.6956521739130435|\n",
            "|R3BV8N52HPNJJM|          4|           18|         20|   Y|                N|               0.9|\n",
            "|R2GOJRL2PW4JNM|          4|           24|         30|   Y|                N|               0.8|\n",
            "+--------------+-----------+-------------+-----------+----+-----------------+------------------+\n",
            "only showing top 20 rows\n",
            "\n"
          ],
          "name": "stdout"
        }
      ]
    },
    {
      "cell_type": "code",
      "metadata": {
        "colab": {
          "base_uri": "https://localhost:8080/"
        },
        "id": "higr0oz7AcL9",
        "outputId": "824e0675-7126-4bef-8a40-d6947d3a31f9"
      },
      "source": [
        "#Step 4\n",
        "from pyspark.sql.functions import col\n",
        "vine_unpaid_df = helpful_votes_df.filter(col(\"vine\")  == 'N')\n",
        "vine_unpaid_df.show()"
      ],
      "execution_count": 15,
      "outputs": [
        {
          "output_type": "stream",
          "text": [
            "+--------------+-----------+-------------+-----------+----+-----------------+------------------+\n",
            "|     review_id|star_rating|helpful_votes|total_votes|vine|verified_purchase|percentage_helpful|\n",
            "+--------------+-----------+-------------+-----------+----+-----------------+------------------+\n",
            "|R1OAZUG90XPU2U|          5|          250|        274|   N|                Y|0.9124087591240876|\n",
            "|R23VPTUJ8I8NR5|          1|           28|         30|   N|                Y|0.9333333333333333|\n",
            "| R6SRJFJ5YH4UM|          5|           23|         26|   N|                Y|0.8846153846153846|\n",
            "|R3DOS07BIMP4DJ|          2|           32|         42|   N|                N|0.7619047619047619|\n",
            "|R30PGWX4HN1CFG|          1|           85|         95|   N|                Y|0.8947368421052632|\n",
            "|R2XASGYIENUHQO|          5|           28|         32|   N|                Y|             0.875|\n",
            "|R34UQPQCTSKQK9|          5|           23|         26|   N|                Y|0.8846153846153846|\n",
            "|R2M6WNM2OZZHKS|          1|           20|         22|   N|                N|0.9090909090909091|\n",
            "| RO6JNMUJDE1LP|          5|           37|         50|   N|                N|              0.74|\n",
            "|R1WNL4OIMSKDBR|          5|           35|         36|   N|                Y|0.9722222222222222|\n",
            "| RDGWZ3U8LQZE6|          2|           48|         54|   N|                Y|0.8888888888888888|\n",
            "|R3HFIKVOUDHT4I|          3|           64|         67|   N|                N|0.9552238805970149|\n",
            "| R22M0N2OZSICN|          5|           21|         23|   N|                Y|0.9130434782608695|\n",
            "|R1E43139TRHB5T|          5|           22|         22|   N|                Y|               1.0|\n",
            "|R1L40ST6C2UJHK|          5|          262|        272|   N|                Y|0.9632352941176471|\n",
            "|R1XISUX6DDSXKZ|          5|           37|         41|   N|                Y|0.9024390243902439|\n",
            "|R35MWO8UIXOA37|          1|           20|         22|   N|                Y|0.9090909090909091|\n",
            "|R1RZ0G02ASP7SF|          2|           35|         43|   N|                Y| 0.813953488372093|\n",
            "|R10HZ77HAWVJH6|          5|           19|         22|   N|                Y|0.8636363636363636|\n",
            "|R1PI04EDGLLCXV|          5|           25|         28|   N|                Y|0.8928571428571429|\n",
            "+--------------+-----------+-------------+-----------+----+-----------------+------------------+\n",
            "only showing top 20 rows\n",
            "\n"
          ],
          "name": "stdout"
        }
      ]
    },
    {
      "cell_type": "code",
      "metadata": {
        "colab": {
          "base_uri": "https://localhost:8080/"
        },
        "id": "k5bnKzKpAg4L",
        "outputId": "9e574825-c6ed-4c0e-8336-7ee8697bfc5e"
      },
      "source": [
        "# Total number of paid ratings\n",
        "total_vine_paid_ratings=vine_paid_df.select('star_rating').count()\n",
        "print(total_vine_paid_ratings)\n"
      ],
      "execution_count": 17,
      "outputs": [
        {
          "output_type": "stream",
          "text": [
            "61\n"
          ],
          "name": "stdout"
        }
      ]
    },
    {
      "cell_type": "code",
      "metadata": {
        "colab": {
          "base_uri": "https://localhost:8080/"
        },
        "id": "790KjNO_CR1Y",
        "outputId": "06fce353-0215-4004-cca9-827d78d87497"
      },
      "source": [
        "# Total number of unpaid ratings\n",
        "total_vine_unpaid_ratings=vine_unpaid_df.select('star_rating').count()\n",
        "print(total_vine_unpaid_ratings)"
      ],
      "execution_count": 19,
      "outputs": [
        {
          "output_type": "stream",
          "text": [
            "28174\n"
          ],
          "name": "stdout"
        }
      ]
    },
    {
      "cell_type": "code",
      "metadata": {
        "colab": {
          "base_uri": "https://localhost:8080/"
        },
        "id": "ywQoT5jUCdLG",
        "outputId": "2ade7211-e69b-4b01-b6cc-9b08bbf30344"
      },
      "source": [
        "# Total number of ratings\n",
        "total_number_ratings=total_vine_paid_ratings + total_vine_unpaid_ratings\n",
        "print(total_number_ratings)"
      ],
      "execution_count": 20,
      "outputs": [
        {
          "output_type": "stream",
          "text": [
            "28235\n"
          ],
          "name": "stdout"
        }
      ]
    },
    {
      "cell_type": "code",
      "metadata": {
        "colab": {
          "base_uri": "https://localhost:8080/"
        },
        "id": "eAHwGYuuDCmH",
        "outputId": "8ccb8c48-21c9-415a-e353-63b80bdb4f12"
      },
      "source": [
        "# Total number of unnpaid 5-star ratings\n",
        "total_unpaid_5star_ratings = vine_unpaid_df.select('vine').where(vine_unpaid_df.star_rating==5).count()\n",
        "print(total_unpaid_5star_ratings)"
      ],
      "execution_count": 21,
      "outputs": [
        {
          "output_type": "stream",
          "text": [
            "15672\n"
          ],
          "name": "stdout"
        }
      ]
    },
    {
      "cell_type": "code",
      "metadata": {
        "colab": {
          "base_uri": "https://localhost:8080/"
        },
        "id": "sqsvtHzuDdn2",
        "outputId": "04850d3c-a345-426a-ddd7-acfcffb0d5ab"
      },
      "source": [
        "# Total number of paid 5-star ratings\n",
        "total_paid_5star_ratings = vine_paid_df.select('vine').where(vine_paid_df.star_rating==5).count()\n",
        "print(total_paid_5star_ratings)"
      ],
      "execution_count": 22,
      "outputs": [
        {
          "output_type": "stream",
          "text": [
            "20\n"
          ],
          "name": "stdout"
        }
      ]
    },
    {
      "cell_type": "code",
      "metadata": {
        "colab": {
          "base_uri": "https://localhost:8080/"
        },
        "id": "q9L58OkzDpzl",
        "outputId": "37398242-fd0a-48dd-b9fa-6ab560dcd923"
      },
      "source": [
        "# Percentage of 5-star ratings for Paid\n",
        "percentage_paid_5star_ratings = total_paid_5star_ratings / total_vine_paid_ratings\n",
        "print(percentage_paid_5star_ratings)\n"
      ],
      "execution_count": 23,
      "outputs": [
        {
          "output_type": "stream",
          "text": [
            "0.32786885245901637\n"
          ],
          "name": "stdout"
        }
      ]
    },
    {
      "cell_type": "code",
      "metadata": {
        "colab": {
          "base_uri": "https://localhost:8080/"
        },
        "id": "mQXnHYEYEHq3",
        "outputId": "3eadf712-19d0-4b18-ff79-5ddcdce942d0"
      },
      "source": [
        "# Percentage of 5-star Unpaid\n",
        "percentage_unpaid_5star_ratings = total_unpaid_5star_ratings / total_vine_unpaid_ratings\n",
        "print(percentage_unpaid_5star_ratings)"
      ],
      "execution_count": 24,
      "outputs": [
        {
          "output_type": "stream",
          "text": [
            "0.5562575424149926\n"
          ],
          "name": "stdout"
        }
      ]
    },
    {
      "cell_type": "code",
      "metadata": {
        "id": "WBC9ayb_EUCz"
      },
      "source": [
        ""
      ],
      "execution_count": null,
      "outputs": []
    }
  ]
}